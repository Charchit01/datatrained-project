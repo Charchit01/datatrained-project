{
 "cells": [
  {
   "cell_type": "code",
   "execution_count": 1,
   "metadata": {},
   "outputs": [],
   "source": [
    "import pandas as pd\n",
    "import numpy as np\n",
    "import matplotlib.pyplot as plt\n",
    "import warnings\n",
    "import re\n",
    "warnings.filterwarnings('ignore')\n"
   ]
  },
  {
   "cell_type": "code",
   "execution_count": 2,
   "metadata": {},
   "outputs": [],
   "source": [
    " train=pd.read_excel(\"Final_Train.xlsx\")"
   ]
  },
  {
   "cell_type": "code",
   "execution_count": 3,
   "metadata": {},
   "outputs": [
    {
     "data": {
      "text/html": [
       "<div>\n",
       "<style scoped>\n",
       "    .dataframe tbody tr th:only-of-type {\n",
       "        vertical-align: middle;\n",
       "    }\n",
       "\n",
       "    .dataframe tbody tr th {\n",
       "        vertical-align: top;\n",
       "    }\n",
       "\n",
       "    .dataframe thead th {\n",
       "        text-align: right;\n",
       "    }\n",
       "</style>\n",
       "<table border=\"1\" class=\"dataframe\">\n",
       "  <thead>\n",
       "    <tr style=\"text-align: right;\">\n",
       "      <th></th>\n",
       "      <th>Qualification</th>\n",
       "      <th>Experience</th>\n",
       "      <th>Rating</th>\n",
       "      <th>Place</th>\n",
       "      <th>Profile</th>\n",
       "      <th>Miscellaneous_Info</th>\n",
       "      <th>Fees</th>\n",
       "    </tr>\n",
       "  </thead>\n",
       "  <tbody>\n",
       "    <tr>\n",
       "      <th>0</th>\n",
       "      <td>BHMS, MD - Homeopathy</td>\n",
       "      <td>24 years experience</td>\n",
       "      <td>100%</td>\n",
       "      <td>Kakkanad, Ernakulam</td>\n",
       "      <td>Homeopath</td>\n",
       "      <td>100% 16 Feedback Kakkanad, Ernakulam</td>\n",
       "      <td>100</td>\n",
       "    </tr>\n",
       "    <tr>\n",
       "      <th>1</th>\n",
       "      <td>BAMS, MD - Ayurveda Medicine</td>\n",
       "      <td>12 years experience</td>\n",
       "      <td>98%</td>\n",
       "      <td>Whitefield, Bangalore</td>\n",
       "      <td>Ayurveda</td>\n",
       "      <td>98% 76 Feedback Whitefield, Bangalore</td>\n",
       "      <td>350</td>\n",
       "    </tr>\n",
       "    <tr>\n",
       "      <th>2</th>\n",
       "      <td>MBBS, MS - Otorhinolaryngology</td>\n",
       "      <td>9 years experience</td>\n",
       "      <td>NaN</td>\n",
       "      <td>Mathikere - BEL, Bangalore</td>\n",
       "      <td>ENT Specialist</td>\n",
       "      <td>NaN</td>\n",
       "      <td>300</td>\n",
       "    </tr>\n",
       "    <tr>\n",
       "      <th>3</th>\n",
       "      <td>BSc - Zoology, BAMS</td>\n",
       "      <td>12 years experience</td>\n",
       "      <td>NaN</td>\n",
       "      <td>Bannerghatta Road, Bangalore</td>\n",
       "      <td>Ayurveda</td>\n",
       "      <td>Bannerghatta Road, Bangalore ₹250 Available on...</td>\n",
       "      <td>250</td>\n",
       "    </tr>\n",
       "    <tr>\n",
       "      <th>4</th>\n",
       "      <td>BAMS</td>\n",
       "      <td>20 years experience</td>\n",
       "      <td>100%</td>\n",
       "      <td>Keelkattalai, Chennai</td>\n",
       "      <td>Ayurveda</td>\n",
       "      <td>100% 4 Feedback Keelkattalai, Chennai</td>\n",
       "      <td>250</td>\n",
       "    </tr>\n",
       "  </tbody>\n",
       "</table>\n",
       "</div>"
      ],
      "text/plain": [
       "                    Qualification           Experience Rating  \\\n",
       "0           BHMS, MD - Homeopathy  24 years experience   100%   \n",
       "1    BAMS, MD - Ayurveda Medicine  12 years experience    98%   \n",
       "2  MBBS, MS - Otorhinolaryngology   9 years experience    NaN   \n",
       "3             BSc - Zoology, BAMS  12 years experience    NaN   \n",
       "4                            BAMS  20 years experience   100%   \n",
       "\n",
       "                          Place         Profile  \\\n",
       "0           Kakkanad, Ernakulam       Homeopath   \n",
       "1         Whitefield, Bangalore        Ayurveda   \n",
       "2    Mathikere - BEL, Bangalore  ENT Specialist   \n",
       "3  Bannerghatta Road, Bangalore        Ayurveda   \n",
       "4         Keelkattalai, Chennai        Ayurveda   \n",
       "\n",
       "                                  Miscellaneous_Info  Fees  \n",
       "0               100% 16 Feedback Kakkanad, Ernakulam   100  \n",
       "1              98% 76 Feedback Whitefield, Bangalore   350  \n",
       "2                                                NaN   300  \n",
       "3  Bannerghatta Road, Bangalore ₹250 Available on...   250  \n",
       "4              100% 4 Feedback Keelkattalai, Chennai   250  "
      ]
     },
     "execution_count": 3,
     "metadata": {},
     "output_type": "execute_result"
    }
   ],
   "source": [
    "train.head()"
   ]
  },
  {
   "cell_type": "code",
   "execution_count": 4,
   "metadata": {},
   "outputs": [],
   "source": [
    "test=pd.read_excel(\"Final_Test.xlsx\")"
   ]
  },
  {
   "cell_type": "code",
   "execution_count": 5,
   "metadata": {},
   "outputs": [],
   "source": [
    "df_train = train[['Qualification', 'Profile', 'Experience', 'Place', 'Miscellaneous_Info', 'Rating','Fees']]\n",
    "df_test = test[['Qualification', 'Profile','Experience', 'Place', 'Miscellaneous_Info', 'Rating']]\n"
   ]
  },
  {
   "cell_type": "code",
   "execution_count": 6,
   "metadata": {},
   "outputs": [
    {
     "data": {
      "text/html": [
       "<div>\n",
       "<style scoped>\n",
       "    .dataframe tbody tr th:only-of-type {\n",
       "        vertical-align: middle;\n",
       "    }\n",
       "\n",
       "    .dataframe tbody tr th {\n",
       "        vertical-align: top;\n",
       "    }\n",
       "\n",
       "    .dataframe thead th {\n",
       "        text-align: right;\n",
       "    }\n",
       "</style>\n",
       "<table border=\"1\" class=\"dataframe\">\n",
       "  <thead>\n",
       "    <tr style=\"text-align: right;\">\n",
       "      <th></th>\n",
       "      <th>Qualification</th>\n",
       "      <th>Experience</th>\n",
       "      <th>Rating</th>\n",
       "      <th>Place</th>\n",
       "      <th>Profile</th>\n",
       "      <th>Miscellaneous_Info</th>\n",
       "    </tr>\n",
       "  </thead>\n",
       "  <tbody>\n",
       "    <tr>\n",
       "      <th>0</th>\n",
       "      <td>MBBS</td>\n",
       "      <td>35 years experience</td>\n",
       "      <td>NaN</td>\n",
       "      <td>Ghatkopar East, Mumbai</td>\n",
       "      <td>General Medicine</td>\n",
       "      <td>NaN</td>\n",
       "    </tr>\n",
       "    <tr>\n",
       "      <th>1</th>\n",
       "      <td>MBBS, Diploma in Otorhinolaryngology (DLO)</td>\n",
       "      <td>31 years experience</td>\n",
       "      <td>NaN</td>\n",
       "      <td>West Marredpally, Hyderabad</td>\n",
       "      <td>ENT Specialist</td>\n",
       "      <td>NaN</td>\n",
       "    </tr>\n",
       "    <tr>\n",
       "      <th>2</th>\n",
       "      <td>MBBS, DDVL</td>\n",
       "      <td>40 years experience</td>\n",
       "      <td>70%</td>\n",
       "      <td>KK Nagar, Chennai</td>\n",
       "      <td>Dermatologists</td>\n",
       "      <td>70% 4 Feedback KK Nagar, Chennai</td>\n",
       "    </tr>\n",
       "    <tr>\n",
       "      <th>3</th>\n",
       "      <td>BAMS</td>\n",
       "      <td>0 years experience</td>\n",
       "      <td>NaN</td>\n",
       "      <td>New Ashok Nagar, Delhi</td>\n",
       "      <td>Ayurveda</td>\n",
       "      <td>NaN</td>\n",
       "    </tr>\n",
       "    <tr>\n",
       "      <th>4</th>\n",
       "      <td>BDS, MDS - Conservative Dentistry &amp; Endodontics</td>\n",
       "      <td>16 years experience</td>\n",
       "      <td>100%</td>\n",
       "      <td>Kanakpura Road, Bangalore</td>\n",
       "      <td>Dentist</td>\n",
       "      <td>General Dentistry Conservative Dentistry Cosme...</td>\n",
       "    </tr>\n",
       "  </tbody>\n",
       "</table>\n",
       "</div>"
      ],
      "text/plain": [
       "                                     Qualification           Experience  \\\n",
       "0                                             MBBS  35 years experience   \n",
       "1       MBBS, Diploma in Otorhinolaryngology (DLO)  31 years experience   \n",
       "2                                       MBBS, DDVL  40 years experience   \n",
       "3                                             BAMS   0 years experience   \n",
       "4  BDS, MDS - Conservative Dentistry & Endodontics  16 years experience   \n",
       "\n",
       "  Rating                        Place           Profile  \\\n",
       "0    NaN       Ghatkopar East, Mumbai  General Medicine   \n",
       "1    NaN  West Marredpally, Hyderabad    ENT Specialist   \n",
       "2    70%            KK Nagar, Chennai    Dermatologists   \n",
       "3    NaN       New Ashok Nagar, Delhi          Ayurveda   \n",
       "4   100%    Kanakpura Road, Bangalore           Dentist   \n",
       "\n",
       "                                  Miscellaneous_Info  \n",
       "0                                                NaN  \n",
       "1                                                NaN  \n",
       "2                   70% 4 Feedback KK Nagar, Chennai  \n",
       "3                                                NaN  \n",
       "4  General Dentistry Conservative Dentistry Cosme...  "
      ]
     },
     "execution_count": 6,
     "metadata": {},
     "output_type": "execute_result"
    }
   ],
   "source": [
    "test.head()"
   ]
  },
  {
   "cell_type": "code",
   "execution_count": 7,
   "metadata": {},
   "outputs": [
    {
     "data": {
      "text/plain": [
       "((5961, 7), (1987, 6))"
      ]
     },
     "execution_count": 7,
     "metadata": {},
     "output_type": "execute_result"
    }
   ],
   "source": [
    "# shape of dataset\n",
    "train.shape, test.shape"
   ]
  },
  {
   "cell_type": "code",
   "execution_count": 8,
   "metadata": {},
   "outputs": [
    {
     "name": "stdout",
     "output_type": "stream",
     "text": [
      "<class 'pandas.core.frame.DataFrame'>\n",
      "RangeIndex: 5961 entries, 0 to 5960\n",
      "Data columns (total 7 columns):\n",
      " #   Column              Non-Null Count  Dtype \n",
      "---  ------              --------------  ----- \n",
      " 0   Qualification       5961 non-null   object\n",
      " 1   Experience          5961 non-null   object\n",
      " 2   Rating              2659 non-null   object\n",
      " 3   Place               5936 non-null   object\n",
      " 4   Profile             5961 non-null   object\n",
      " 5   Miscellaneous_Info  3341 non-null   object\n",
      " 6   Fees                5961 non-null   int64 \n",
      "dtypes: int64(1), object(6)\n",
      "memory usage: 326.1+ KB\n"
     ]
    }
   ],
   "source": [
    "train.info()"
   ]
  },
  {
   "cell_type": "code",
   "execution_count": 9,
   "metadata": {},
   "outputs": [
    {
     "name": "stdout",
     "output_type": "stream",
     "text": [
      "<class 'pandas.core.frame.DataFrame'>\n",
      "RangeIndex: 1987 entries, 0 to 1986\n",
      "Data columns (total 6 columns):\n",
      " #   Column              Non-Null Count  Dtype \n",
      "---  ------              --------------  ----- \n",
      " 0   Qualification       1987 non-null   object\n",
      " 1   Experience          1987 non-null   object\n",
      " 2   Rating              897 non-null    object\n",
      " 3   Place               1981 non-null   object\n",
      " 4   Profile             1987 non-null   object\n",
      " 5   Miscellaneous_Info  1153 non-null   object\n",
      "dtypes: object(6)\n",
      "memory usage: 93.3+ KB\n"
     ]
    }
   ],
   "source": [
    "test.info()"
   ]
  },
  {
   "cell_type": "code",
   "execution_count": 10,
   "metadata": {},
   "outputs": [
    {
     "name": "stdout",
     "output_type": "stream",
     "text": [
      "Qualification: 1420\n",
      "Experience: 64\n",
      "Rating: 51\n",
      "Place: 877\n",
      "Profile 6\n"
     ]
    }
   ],
   "source": [
    "print('Qualification:', train['Qualification'].nunique())\n",
    "print('Experience:', train['Experience'].nunique())\n",
    "print('Rating:', train['Rating'].nunique())\n",
    "print('Place:', train['Place'].nunique())\n",
    "print('Profile', train['Profile'].nunique())\n"
   ]
  },
  {
   "cell_type": "code",
   "execution_count": 11,
   "metadata": {},
   "outputs": [],
   "source": [
    "df_train['Experience'] = df_train['Experience'].str.replace('years experience','').astype(int)\n",
    "df_test['Experience'] = df_test['Experience'].str.replace('years experience','').astype(int)\n"
   ]
  },
  {
   "cell_type": "code",
   "execution_count": 12,
   "metadata": {},
   "outputs": [],
   "source": [
    "def clean_text(text):\n",
    "    text = str(text).lower()\n",
    "    text = re.sub(r'[^a-z]', ' ', text)\n",
    "    text = re.sub(r'\\s+', ' ', text)\n",
    "    return text\n",
    "\n",
    "df_train['Qualification'] = df_train['Qualification'].apply(clean_text)\n",
    "df_test['Qualification'] = df_test['Qualification'].apply(clean_text)\n",
    "\n",
    "def clean_place(text):\n",
    "    text = str(text).lower()\n",
    "    text = re.sub(r'[^a-z0-9]', ' ', text)\n",
    "    text = re.sub(r'\\s+', ' ', text)\n",
    "    return text\n",
    "\n",
    "df_train['Place'].fillna('missing', inplace=True)\n",
    "df_test['Place'].fillna('missing', inplace=True)\n",
    "df_train['Place'] = df_train['Place'].apply(clean_place)\n",
    "df_test['Place'] = df_test['Place'].apply(clean_place)\n"
   ]
  },
  {
   "cell_type": "code",
   "execution_count": 13,
   "metadata": {},
   "outputs": [],
   "source": [
    "df_train['Rating'].fillna('0%', inplace=True)\n",
    "df_test['Rating'].fillna('0%', inplace=True)\n",
    "\n",
    "def clean_rating(text):\n",
    "    text = re.sub(r'%', '', str(text))\n",
    "    return text\n",
    "\n",
    "df_train['Rating'] = df_train['Rating'].apply(clean_rating)\n",
    "df_train['Rating'] = df_train['Rating'].astype(int)\n",
    "\n",
    "df_test['Rating'] = df_test['Rating'].apply(clean_rating)\n",
    "df_test['Rating'] = df_test['Rating'].astype(int)\n"
   ]
  },
  {
   "cell_type": "code",
   "execution_count": 14,
   "metadata": {},
   "outputs": [],
   "source": [
    "df_train['Miscellaneous_Info'].fillna('missing', inplace=True)\n",
    "df_test['Miscellaneous_Info'].fillna('missing', inplace=True)\n",
    "\n",
    "def get_feedback(feedback):\n",
    "    feedback = re.findall(r'\\d+ Feedback', str(feedback))\n",
    "    if feedback == []:\n",
    "        feedback = '0 Feedback'\n",
    "        return feedback\n",
    "    else:\n",
    "        return feedback[0]\n",
    "\n",
    "df_train['Feedback'] = df_train['Miscellaneous_Info'].apply(get_feedback)\n",
    "df_train['Feedback'] = df_train['Feedback'].str.replace(' Feedback','')\n",
    "df_train['Feedback'] = df_train['Feedback'].astype(int)\n",
    "\n",
    "df_test['Feedback'] = df_test['Miscellaneous_Info'].apply(get_feedback)\n",
    "df_test['Feedback'] = df_test['Feedback'].str.replace(' Feedback','')\n",
    "df_test['Feedback'] = df_test['Feedback'].astype(int)\n"
   ]
  },
  {
   "cell_type": "code",
   "execution_count": 15,
   "metadata": {},
   "outputs": [],
   "source": [
    "def get_fee(text):\n",
    "    text = re.sub(r',', \"\", text)\n",
    "    text = re.findall(r'₹\\d+', text)\n",
    "    if text != []:\n",
    "        return text[0]\n",
    "    else:\n",
    "        return 0\n",
    "\n",
    "df_train['Misc_Fees'] = df_train['Miscellaneous_Info'].apply(get_fee)\n",
    "df_train['Misc_Fees'] = df_train['Misc_Fees'].str.replace('₹','')\n",
    "df_train['Misc_Fees'].fillna(50, inplace=True)\n",
    "df_train['Misc_Fees'] = df_train['Misc_Fees'].astype(int)\n",
    "\n",
    "df_test['Misc_Fees'] = df_test['Miscellaneous_Info'].apply(get_fee)\n",
    "df_test['Misc_Fees'] = df_test['Misc_Fees'].str.replace('₹','')\n",
    "df_test['Misc_Fees'].fillna(50, inplace=True)\n",
    "df_test['Misc_Fees'] = df_test['Misc_Fees'].astype(float)\n"
   ]
  },
  {
   "cell_type": "code",
   "execution_count": 16,
   "metadata": {},
   "outputs": [],
   "source": [
    "def clean_misc(text):\n",
    "    text = str(text).lower()\n",
    "    text = re.sub(r'[^a-z0-9]', ' ', text)\n",
    "    text = re.sub(r'\\s+', ' ', text)\n",
    "    return text\n",
    "\n",
    "df_train['Miscellaneous_Info'] = df_train['Miscellaneous_Info'].apply(clean_misc)\n",
    "df_test['Miscellaneous_Info'] = df_test['Miscellaneous_Info'].apply(clean_misc)\n"
   ]
  },
  {
   "cell_type": "code",
   "execution_count": 17,
   "metadata": {},
   "outputs": [],
   "source": [
    "df_train = pd.get_dummies(df_train, columns=['Profile'])\n",
    "df_test  = pd.get_dummies(df_test,  columns=['Profile'])\n"
   ]
  },
  {
   "cell_type": "code",
   "execution_count": 18,
   "metadata": {},
   "outputs": [
    {
     "data": {
      "text/html": [
       "<div>\n",
       "<style scoped>\n",
       "    .dataframe tbody tr th:only-of-type {\n",
       "        vertical-align: middle;\n",
       "    }\n",
       "\n",
       "    .dataframe tbody tr th {\n",
       "        vertical-align: top;\n",
       "    }\n",
       "\n",
       "    .dataframe thead th {\n",
       "        text-align: right;\n",
       "    }\n",
       "</style>\n",
       "<table border=\"1\" class=\"dataframe\">\n",
       "  <thead>\n",
       "    <tr style=\"text-align: right;\">\n",
       "      <th></th>\n",
       "      <th>Qualification</th>\n",
       "      <th>Experience</th>\n",
       "      <th>Place</th>\n",
       "      <th>Miscellaneous_Info</th>\n",
       "      <th>Rating</th>\n",
       "      <th>Fees</th>\n",
       "      <th>Feedback</th>\n",
       "      <th>Misc_Fees</th>\n",
       "      <th>Profile_Ayurveda</th>\n",
       "      <th>Profile_Dentist</th>\n",
       "      <th>Profile_Dermatologists</th>\n",
       "      <th>Profile_ENT Specialist</th>\n",
       "      <th>Profile_General Medicine</th>\n",
       "      <th>Profile_Homeopath</th>\n",
       "    </tr>\n",
       "  </thead>\n",
       "  <tbody>\n",
       "    <tr>\n",
       "      <th>0</th>\n",
       "      <td>bhms md homeopathy</td>\n",
       "      <td>24</td>\n",
       "      <td>kakkanad ernakulam</td>\n",
       "      <td>100 16 feedback kakkanad ernakulam</td>\n",
       "      <td>100</td>\n",
       "      <td>100</td>\n",
       "      <td>16</td>\n",
       "      <td>50</td>\n",
       "      <td>0</td>\n",
       "      <td>0</td>\n",
       "      <td>0</td>\n",
       "      <td>0</td>\n",
       "      <td>0</td>\n",
       "      <td>1</td>\n",
       "    </tr>\n",
       "    <tr>\n",
       "      <th>1</th>\n",
       "      <td>bams md ayurveda medicine</td>\n",
       "      <td>12</td>\n",
       "      <td>whitefield bangalore</td>\n",
       "      <td>98 76 feedback whitefield bangalore</td>\n",
       "      <td>98</td>\n",
       "      <td>350</td>\n",
       "      <td>76</td>\n",
       "      <td>50</td>\n",
       "      <td>1</td>\n",
       "      <td>0</td>\n",
       "      <td>0</td>\n",
       "      <td>0</td>\n",
       "      <td>0</td>\n",
       "      <td>0</td>\n",
       "    </tr>\n",
       "    <tr>\n",
       "      <th>2</th>\n",
       "      <td>mbbs ms otorhinolaryngology</td>\n",
       "      <td>9</td>\n",
       "      <td>mathikere bel bangalore</td>\n",
       "      <td>missing</td>\n",
       "      <td>0</td>\n",
       "      <td>300</td>\n",
       "      <td>0</td>\n",
       "      <td>50</td>\n",
       "      <td>0</td>\n",
       "      <td>0</td>\n",
       "      <td>0</td>\n",
       "      <td>1</td>\n",
       "      <td>0</td>\n",
       "      <td>0</td>\n",
       "    </tr>\n",
       "    <tr>\n",
       "      <th>3</th>\n",
       "      <td>bsc zoology bams</td>\n",
       "      <td>12</td>\n",
       "      <td>bannerghatta road bangalore</td>\n",
       "      <td>bannerghatta road bangalore 250 available on s...</td>\n",
       "      <td>0</td>\n",
       "      <td>250</td>\n",
       "      <td>0</td>\n",
       "      <td>250</td>\n",
       "      <td>1</td>\n",
       "      <td>0</td>\n",
       "      <td>0</td>\n",
       "      <td>0</td>\n",
       "      <td>0</td>\n",
       "      <td>0</td>\n",
       "    </tr>\n",
       "    <tr>\n",
       "      <th>4</th>\n",
       "      <td>bams</td>\n",
       "      <td>20</td>\n",
       "      <td>keelkattalai chennai</td>\n",
       "      <td>100 4 feedback keelkattalai chennai</td>\n",
       "      <td>100</td>\n",
       "      <td>250</td>\n",
       "      <td>4</td>\n",
       "      <td>50</td>\n",
       "      <td>1</td>\n",
       "      <td>0</td>\n",
       "      <td>0</td>\n",
       "      <td>0</td>\n",
       "      <td>0</td>\n",
       "      <td>0</td>\n",
       "    </tr>\n",
       "  </tbody>\n",
       "</table>\n",
       "</div>"
      ],
      "text/plain": [
       "                 Qualification  Experience                        Place  \\\n",
       "0           bhms md homeopathy          24           kakkanad ernakulam   \n",
       "1    bams md ayurveda medicine          12         whitefield bangalore   \n",
       "2  mbbs ms otorhinolaryngology           9      mathikere bel bangalore   \n",
       "3             bsc zoology bams          12  bannerghatta road bangalore   \n",
       "4                         bams          20         keelkattalai chennai   \n",
       "\n",
       "                                  Miscellaneous_Info  Rating  Fees  Feedback  \\\n",
       "0                 100 16 feedback kakkanad ernakulam     100   100        16   \n",
       "1                98 76 feedback whitefield bangalore      98   350        76   \n",
       "2                                            missing       0   300         0   \n",
       "3  bannerghatta road bangalore 250 available on s...       0   250         0   \n",
       "4                100 4 feedback keelkattalai chennai     100   250         4   \n",
       "\n",
       "   Misc_Fees  Profile_Ayurveda  Profile_Dentist  Profile_Dermatologists  \\\n",
       "0         50                 0                0                       0   \n",
       "1         50                 1                0                       0   \n",
       "2         50                 0                0                       0   \n",
       "3        250                 1                0                       0   \n",
       "4         50                 1                0                       0   \n",
       "\n",
       "   Profile_ENT Specialist  Profile_General Medicine  Profile_Homeopath  \n",
       "0                       0                         0                  1  \n",
       "1                       0                         0                  0  \n",
       "2                       1                         0                  0  \n",
       "3                       0                         0                  0  \n",
       "4                       0                         0                  0  "
      ]
     },
     "execution_count": 18,
     "metadata": {},
     "output_type": "execute_result"
    }
   ],
   "source": [
    "df_train.head()\n"
   ]
  },
  {
   "cell_type": "markdown",
   "metadata": {},
   "source": [
    "to check train-test split"
   ]
  },
  {
   "cell_type": "code",
   "execution_count": 19,
   "metadata": {},
   "outputs": [],
   "source": [
    "X = df_train.drop(labels=['Fees'], axis=1)\n",
    "y = df_train['Fees'].values\n",
    "\n",
    "from sklearn.model_selection import train_test_split\n",
    "X_train, X_cv, y_train, y_cv = train_test_split(X, y, test_size=0.25, random_state=1)\n"
   ]
  },
  {
   "cell_type": "code",
   "execution_count": 20,
   "metadata": {},
   "outputs": [
    {
     "data": {
      "text/plain": [
       "((4470, 13), (4470,), (1491, 13), (1491,))"
      ]
     },
     "execution_count": 20,
     "metadata": {},
     "output_type": "execute_result"
    }
   ],
   "source": [
    "X_train.shape, y_train.shape, X_cv.shape, y_cv.shape\n"
   ]
  },
  {
   "cell_type": "code",
   "execution_count": 21,
   "metadata": {},
   "outputs": [
    {
     "data": {
      "text/plain": [
       "Index(['Qualification', 'Experience', 'Place', 'Miscellaneous_Info', 'Rating',\n",
       "       'Feedback', 'Misc_Fees', 'Profile_Ayurveda', 'Profile_Dentist',\n",
       "       'Profile_Dermatologists', 'Profile_ENT Specialist',\n",
       "       'Profile_General Medicine', 'Profile_Homeopath'],\n",
       "      dtype='object')"
      ]
     },
     "execution_count": 21,
     "metadata": {},
     "output_type": "execute_result"
    }
   ],
   "source": [
    "X_train.columns\n"
   ]
  },
  {
   "cell_type": "markdown",
   "metadata": {},
   "source": [
    "Make the Model"
   ]
  },
  {
   "cell_type": "code",
   "execution_count": 22,
   "metadata": {},
   "outputs": [],
   "source": [
    "X_train_qual = X_train['Qualification']\n",
    "X_cv_qual = X_cv['Qualification']\n",
    "\n",
    "X_train_place = X_train['Place']\n",
    "X_cv_place = X_cv['Place']\n",
    "\n",
    "X_train_misc = X_train['Miscellaneous_Info']\n",
    "X_cv_misc = X_cv['Miscellaneous_Info']\n",
    "\n",
    "from sklearn.feature_extraction.text import TfidfVectorizer\n",
    "\n",
    "tf1 = TfidfVectorizer(ngram_range=(1,2), binary=True, token_pattern=r'\\w{3,}')\n",
    "X_train_qual = tf1.fit_transform(X_train_qual)\n",
    "X_cv_qual = tf1.transform(X_cv_qual)\n",
    "\n",
    "tf2 = TfidfVectorizer()\n",
    "X_train_place = tf2.fit_transform(X_train_place)\n",
    "X_cv_place = tf2.transform(X_cv_place)\n",
    "\n",
    "tf3 = TfidfVectorizer(token_pattern=r'\\w{1,}', ngram_range=(1,2))\n",
    "X_train_misc = tf3.fit_transform(X_train_misc)\n",
    "X_cv_misc = tf3.transform(X_cv_misc)\n"
   ]
  },
  {
   "cell_type": "code",
   "execution_count": 23,
   "metadata": {},
   "outputs": [],
   "source": [
    "X_train_exp = np.array(X_train['Experience']).reshape(-1,1)\n",
    "X_cv_exp = np.array(X_cv['Experience']).reshape(-1,1)\n",
    "\n",
    "X_train_feedback = np.array(X_train['Feedback']).reshape(-1,1)\n",
    "X_cv_feedback = np.array(X_cv['Feedback']).reshape(-1,1)\n",
    "\n",
    "X_train_rating = np.array(X_train['Rating']).reshape(-1,1)\n",
    "X_cv_rating = np.array(X_cv['Rating']).reshape(-1,1)\n",
    "\n",
    "cols = ['Profile_Dentist', 'Profile_Dermatologists', 'Profile_ENT Specialist', 'Profile_General Medicine',\n",
    "       'Profile_Homeopath']\n",
    "X_train_prof = X_train[cols]\n",
    "X_cv_prof = X_cv[cols]\n",
    "\n",
    "X_train_miscfees = np.array(X_train['Misc_Fees']).reshape(-1,1)\n",
    "X_cv_miscfees = np.array(X_cv['Misc_Fees']).reshape(-1,1)\n"
   ]
  },
  {
   "cell_type": "code",
   "execution_count": 24,
   "metadata": {},
   "outputs": [],
   "source": [
    "from math import sqrt \n",
    "from sklearn.metrics import mean_squared_log_error, mean_squared_error\n"
   ]
  },
  {
   "cell_type": "code",
   "execution_count": 25,
   "metadata": {},
   "outputs": [],
   "source": [
    "from scipy.sparse import hstack\n",
    "merged_train = hstack((X_train_exp, X_train_qual, X_train_prof, X_train_place, X_train_rating, X_train_misc, X_train_miscfees))\n",
    "merged_cv  = hstack((X_cv_exp, X_cv_qual, X_cv_prof, X_cv_place, X_cv_rating, X_cv_misc, X_cv_miscfees))\n"
   ]
  },
  {
   "cell_type": "code",
   "execution_count": 26,
   "metadata": {},
   "outputs": [
    {
     "data": {
      "text/plain": [
       "((4470, 8600), (1491, 8600))"
      ]
     },
     "execution_count": 26,
     "metadata": {},
     "output_type": "execute_result"
    }
   ],
   "source": [
    "merged_train.shape, merged_cv.shape\n"
   ]
  },
  {
   "cell_type": "code",
   "execution_count": 27,
   "metadata": {},
   "outputs": [
    {
     "name": "stdout",
     "output_type": "stream",
     "text": [
      "RMSLE: 0.5806959676677481\n",
      "RMSE: 161.04051685932185\n"
     ]
    }
   ],
   "source": [
    "from sklearn.ensemble import BaggingRegressor\n",
    "br = BaggingRegressor(base_estimator=None, \n",
    "                      n_estimators=80,  \n",
    "                      max_samples=1.0, \n",
    "                      max_features=1.0, \n",
    "                      bootstrap=True, \n",
    "                      bootstrap_features=True,\n",
    "                      oob_score=True,\n",
    "                      n_jobs=None, \n",
    "                      random_state=13, \n",
    "                      verbose=0)\n",
    "br.fit(merged_train, y_train)\n",
    "y_pred5 = br.predict(merged_cv)\n",
    "print('RMSLE:', sqrt(mean_squared_log_error(y_cv, y_pred5)))\n",
    "print('RMSE:', sqrt(mean_squared_error(y_cv, y_pred5)))\n",
    "\n"
   ]
  },
  {
   "cell_type": "code",
   "execution_count": 28,
   "metadata": {},
   "outputs": [],
   "source": [
    "from scipy.sparse import hstack\n",
    "merged_train = hstack((X_train_exp, X_train_feedback, X_train_qual, X_train_prof, X_train_place, X_train_rating, X_train_misc))\n",
    "merged_cv  = hstack((X_cv_exp, X_cv_feedback, X_cv_qual, X_cv_prof, X_cv_place, X_cv_rating, X_cv_misc))\n"
   ]
  },
  {
   "cell_type": "code",
   "execution_count": 29,
   "metadata": {},
   "outputs": [
    {
     "name": "stdout",
     "output_type": "stream",
     "text": [
      "RMSLE: 0.5812561135063448\n"
     ]
    }
   ],
   "source": [
    "from sklearn.ensemble import GradientBoostingRegressor\n",
    "gb = GradientBoostingRegressor(loss='lad', \n",
    "                               learning_rate=0.2,  \n",
    "                               random_state=10, \n",
    "                               n_estimators=92,   \n",
    "                               max_depth=11,  \n",
    "                               subsample=1.0, \n",
    "                               min_samples_split=40, \n",
    "                               min_samples_leaf=1,\n",
    "                               max_features='auto')\n",
    "gb.fit(merged_train, y_train)\n",
    "y_pred3 = gb.predict(merged_cv)\n",
    "print('RMSLE:', sqrt(mean_squared_log_error(y_cv, y_pred3)))\n"
   ]
  },
  {
   "cell_type": "code",
   "execution_count": 30,
   "metadata": {},
   "outputs": [
    {
     "name": "stdout",
     "output_type": "stream",
     "text": [
      "RMSLE: 0.5928716390933947\n"
     ]
    }
   ],
   "source": [
    "from sklearn.ensemble import RandomForestRegressor\n",
    "rf = RandomForestRegressor(n_estimators=29,  \n",
    "                           criterion='mse', \n",
    "                           max_depth=58,  \n",
    "                           min_samples_split=5, \n",
    "                           min_samples_leaf=2, \n",
    "                           min_weight_fraction_leaf=0.0, \n",
    "                           max_features='auto', \n",
    "                           max_leaf_nodes=None, \n",
    "                           min_impurity_decrease=0.20,  \n",
    "                           bootstrap=True, \n",
    "                           oob_score=True, \n",
    "                           n_jobs=-1, \n",
    "                           random_state=11)  \n",
    "rf.fit(merged_train, y_train)\n",
    "y_pred4 = rf.predict(merged_cv)\n",
    "print('RMSLE:', sqrt(mean_squared_log_error(y_cv, y_pred4)))\n"
   ]
  }
 ],
 "metadata": {
  "kernelspec": {
   "display_name": "Python 3",
   "language": "python",
   "name": "python3"
  },
  "language_info": {
   "codemirror_mode": {
    "name": "ipython",
    "version": 3
   },
   "file_extension": ".py",
   "mimetype": "text/x-python",
   "name": "python",
   "nbconvert_exporter": "python",
   "pygments_lexer": "ipython3",
   "version": "3.8.3"
  }
 },
 "nbformat": 4,
 "nbformat_minor": 4
}
